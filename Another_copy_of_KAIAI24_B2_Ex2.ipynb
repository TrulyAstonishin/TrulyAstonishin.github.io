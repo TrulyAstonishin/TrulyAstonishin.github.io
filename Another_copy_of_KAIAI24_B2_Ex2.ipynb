{
  "cells": [
    {
      "cell_type": "markdown",
      "metadata": {
        "id": "view-in-github",
        "colab_type": "text"
      },
      "source": [
        "<a href=\"https://colab.research.google.com/github/TrulyAstonishin/TrulyAstonishin.github.io/blob/main/Another_copy_of_KAIAI24_B2_Ex2.ipynb\" target=\"_parent\"><img src=\"https://colab.research.google.com/assets/colab-badge.svg\" alt=\"Open In Colab\"/></a>"
      ]
    },
    {
      "cell_type": "markdown",
      "source": [
        "#Tasks: Implement a logistic regression model to classify two classes each class represent an integer either 3 or 8\n",
        "\n",
        "## 1) Implement a suitable loss for the problem\n",
        "## 2) Train a logistic regression model using Numpy (other libraries are not allowed)\n",
        "## 3) Plot the training loss\n",
        "## 4) Show the test Accuracy"
      ],
      "metadata": {
        "id": "GDH_sHZo9Xpe"
      }
    },
    {
      "cell_type": "markdown",
      "source": [
        "## Do not touch this part"
      ],
      "metadata": {
        "id": "gqNdrl9wtR9L"
      }
    },
    {
      "cell_type": "code",
      "execution_count": 2,
      "metadata": {
        "id": "zcWdmzFF6Wy3"
      },
      "outputs": [],
      "source": [
        "import matplotlib.pyplot as plt\n",
        "import numpy as np\n",
        "from torchvision.datasets import MNIST\n",
        "import torchvision.transforms as T"
      ]
    },
    {
      "cell_type": "code",
      "execution_count": 3,
      "metadata": {
        "id": "g9ypghZR7E1p",
        "outputId": "ec635ae6-aa41-403d-bb6e-378923af97b5",
        "colab": {
          "base_uri": "https://localhost:8080/"
        }
      },
      "outputs": [
        {
          "output_type": "stream",
          "name": "stdout",
          "text": [
            "Downloading http://yann.lecun.com/exdb/mnist/train-images-idx3-ubyte.gz\n",
            "Downloading http://yann.lecun.com/exdb/mnist/train-images-idx3-ubyte.gz to /MNIST/raw/train-images-idx3-ubyte.gz\n"
          ]
        },
        {
          "output_type": "stream",
          "name": "stderr",
          "text": [
            "100%|██████████| 9912422/9912422 [00:00<00:00, 122370762.33it/s]\n"
          ]
        },
        {
          "output_type": "stream",
          "name": "stdout",
          "text": [
            "Extracting /MNIST/raw/train-images-idx3-ubyte.gz to /MNIST/raw\n",
            "\n",
            "Downloading http://yann.lecun.com/exdb/mnist/train-labels-idx1-ubyte.gz\n",
            "Downloading http://yann.lecun.com/exdb/mnist/train-labels-idx1-ubyte.gz to /MNIST/raw/train-labels-idx1-ubyte.gz\n"
          ]
        },
        {
          "output_type": "stream",
          "name": "stderr",
          "text": [
            "100%|██████████| 28881/28881 [00:00<00:00, 43433378.93it/s]\n"
          ]
        },
        {
          "output_type": "stream",
          "name": "stdout",
          "text": [
            "Extracting /MNIST/raw/train-labels-idx1-ubyte.gz to /MNIST/raw\n",
            "\n",
            "Downloading http://yann.lecun.com/exdb/mnist/t10k-images-idx3-ubyte.gz\n",
            "Downloading http://yann.lecun.com/exdb/mnist/t10k-images-idx3-ubyte.gz to /MNIST/raw/t10k-images-idx3-ubyte.gz\n"
          ]
        },
        {
          "output_type": "stream",
          "name": "stderr",
          "text": [
            "100%|██████████| 1648877/1648877 [00:00<00:00, 31712780.22it/s]\n"
          ]
        },
        {
          "output_type": "stream",
          "name": "stdout",
          "text": [
            "Extracting /MNIST/raw/t10k-images-idx3-ubyte.gz to /MNIST/raw\n",
            "\n",
            "Downloading http://yann.lecun.com/exdb/mnist/t10k-labels-idx1-ubyte.gz\n",
            "Downloading http://yann.lecun.com/exdb/mnist/t10k-labels-idx1-ubyte.gz to /MNIST/raw/t10k-labels-idx1-ubyte.gz\n"
          ]
        },
        {
          "output_type": "stream",
          "name": "stderr",
          "text": [
            "100%|██████████| 4542/4542 [00:00<00:00, 4516483.82it/s]"
          ]
        },
        {
          "output_type": "stream",
          "name": "stdout",
          "text": [
            "Extracting /MNIST/raw/t10k-labels-idx1-ubyte.gz to /MNIST/raw\n",
            "\n"
          ]
        },
        {
          "output_type": "stream",
          "name": "stderr",
          "text": [
            "\n"
          ]
        }
      ],
      "source": [
        "train_dataset = MNIST(\"/\", download = True, train = True, transform = T.ToTensor())\n",
        "test_dataset = MNIST(\"/\", download = True, train = False, transform = T.ToTensor())"
      ]
    },
    {
      "cell_type": "code",
      "execution_count": 4,
      "metadata": {
        "id": "vPZq_vzw7RNz"
      },
      "outputs": [],
      "source": [
        "# Filter out classes 3 and 8\n",
        "train_indices = ((train_dataset.targets == 3) | (train_dataset.targets == 8))\n",
        "train_dataset.targets = train_dataset.targets[train_indices]\n",
        "train_dataset.data = train_dataset.data[train_indices]\n",
        "\n",
        "test_indices = ((test_dataset.targets == 3) | (test_dataset.targets == 8))\n",
        "test_dataset.targets = test_dataset.targets[test_indices]\n",
        "test_dataset.data = test_dataset.data[test_indices]"
      ]
    },
    {
      "cell_type": "code",
      "source": [
        "X_train, y_train = train_dataset.data[:784], train_dataset.targets[:784]\n",
        "X_test, y_test = test_dataset.data[:784], test_dataset.targets[:784]"
      ],
      "metadata": {
        "id": "OCysC49JszDV"
      },
      "execution_count": 57,
      "outputs": []
    },
    {
      "cell_type": "code",
      "source": [
        "X_train = X_train.numpy()\n",
        "y_train = y_train.numpy()\n",
        "X_test = X_test.numpy()\n",
        "y_test = y_test.numpy()"
      ],
      "metadata": {
        "id": "CyCLqD8lvvcp"
      },
      "execution_count": 58,
      "outputs": []
    },
    {
      "cell_type": "code",
      "source": [
        "print(np.shape(X_train))\n",
        "\n",
        "print(np.shape(y_train))\n",
        "\n",
        "print(np.shape(X_test))\n",
        "\n",
        "print(np.shape(y_test))\n"
      ],
      "metadata": {
        "id": "15jAy1Yav6SG",
        "outputId": "e488a4e9-1627-40ff-c625-e14e8243755e",
        "colab": {
          "base_uri": "https://localhost:8080/"
        }
      },
      "execution_count": 70,
      "outputs": [
        {
          "output_type": "stream",
          "name": "stdout",
          "text": [
            "(784, 784)\n",
            "(784,)\n",
            "(784, 28, 28)\n",
            "(784,)\n"
          ]
        }
      ]
    },
    {
      "cell_type": "code",
      "source": [],
      "metadata": {
        "id": "STlBUoBosvCq"
      },
      "execution_count": 7,
      "outputs": []
    },
    {
      "cell_type": "markdown",
      "source": [
        "## Implement a suitable loss for this task"
      ],
      "metadata": {
        "id": "HLDgRlH6uMaB"
      }
    },
    {
      "cell_type": "code",
      "source": [
        "def sigmoid(z):\n",
        "\n",
        "    sig = 1/ (1+np.exp(-z))\n",
        "\n",
        "    return sig\n",
        "\n",
        "\n",
        "def log_reg_cost(y_train, y_pred):  # cross entropy\n",
        "    CEL = -np.mean(y_train * np.log(y_pred+0.001)+(1-y_train)* np.log(1-y_pred+0.001))\n",
        "    return CEL\n",
        "\n",
        "\n",
        "def log_reg_gradient_descent(X_train, y_train, learning_rate, n_iters=500):\n",
        "    \"\"\"\n",
        "    Runs gradient descent (param optimization) for logistic regression and returns optimized weights.\n",
        "    \"\"\"\n",
        "    n , m = X_train.shape\n",
        "    theta = np.zeros(m)\n",
        "\n",
        "    losses = []\n",
        "\n",
        "    for _ in range(n_iters):\n",
        "        z = np.dot(X_train,theta) #can use np.dot(x,theta)\n",
        "        y_pred = sigmoid(z)\n",
        "        gradient = X_train.T @ (y_pred-y_train) / n #np.dot(X_train.T,(y_pred - y_train))/n\n",
        "        theta -= learning_rate * gradient\n",
        "\n",
        "        loss = log_reg_cost(y_train,y_pred)\n",
        "        losses.append(loss)\n",
        "\n",
        "    plt.plot(losses)\n",
        "\n",
        "    return theta\n",
        "\n"
      ],
      "metadata": {
        "id": "nX168U_YsK1X"
      },
      "execution_count": 71,
      "outputs": []
    },
    {
      "cell_type": "code",
      "source": [
        "from re import X\n",
        "print(X_train.shape)\n",
        "\n",
        "print(y_train.shape)"
      ],
      "metadata": {
        "id": "DyJe6fB8KKBK",
        "outputId": "40cb7c3f-b554-43cc-9db7-bf7272ad6c19",
        "colab": {
          "base_uri": "https://localhost:8080/"
        }
      },
      "execution_count": 72,
      "outputs": [
        {
          "output_type": "stream",
          "name": "stdout",
          "text": [
            "(784, 784)\n",
            "(784,)\n"
          ]
        }
      ]
    },
    {
      "cell_type": "markdown",
      "source": [
        "## Train a logistic regression model using numpy (other libraries are not allowed)"
      ],
      "metadata": {
        "id": "jtnkf3gatWuh"
      }
    },
    {
      "cell_type": "code",
      "source": [
        "num_iters = 2000000\n",
        "lr = 1e-3\n",
        "X_train = X_train.reshape(-1, 28 * 28).T # reshape X --->(784, bs)\n",
        "theta= log_reg_gradient_descent(X_train,y_train,lr)"
      ],
      "metadata": {
        "id": "ewAEDbxoteEL",
        "outputId": "d6a2c3c5-7d03-4d48-d333-90f4232a4b9b",
        "colab": {
          "base_uri": "https://localhost:8080/",
          "height": 430
        }
      },
      "execution_count": 73,
      "outputs": [
        {
          "output_type": "display_data",
          "data": {
            "text/plain": [
              "<Figure size 640x480 with 1 Axes>"
            ],
            "image/png": "[encoded data removed]"
          },
          "metadata": {}
        }
      ]
    },
    {
      "cell_type": "markdown",
      "source": [
        "## Plot the training loss"
      ],
      "metadata": {
        "id": "N82xKRQFtdYH"
      }
    },
    {
      "cell_type": "code",
      "source": [
        "# TODO\n",
        "y_pred = sigmoid(np.dot(X_train, theta))  # output of sigmoid is in range 0-1\n",
        "y_pred = np.round(y_pred)  # round to 0 or 1\n",
        "\n",
        "correct_mask = (y_pred == y_test+y_train)\n",
        "correct_count = correct_mask.sum()\n",
        "total_count = len(y_pred)\n",
        "\n",
        "print(f'The model predicted {correct_count} out of {total_count} predictions correctly')\n",
        "print(f'The Accuracy is {correct_count/total_count} ({correct_count/total_count*100}%)')"
      ],
      "metadata": {
        "id": "hzmprD0zt9TH",
        "outputId": "8301be00-4f47-4d4c-bf5e-e81501707202",
        "colab": {
          "base_uri": "https://localhost:8080/"
        }
      },
      "execution_count": 75,
      "outputs": [
        {
          "output_type": "stream",
          "name": "stdout",
          "text": [
            "The model predicted 0 out of 784 predictions correctly\n",
            "The Accuracy is 0.0 (0.0%)\n"
          ]
        }
      ]
    },
    {
      "cell_type": "markdown",
      "source": [
        "## Show the test accuracy"
      ],
      "metadata": {
        "id": "T9mZEKCgtcnc"
      }
    },
    {
      "cell_type": "code",
      "source": [
        "# TODO\n"
      ],
      "metadata": {
        "id": "1QPBZ_R9tb9S"
      },
      "execution_count": null,
      "outputs": []
    }
  ],
  "metadata": {
    "colab": {
      "provenance": [],
      "gpuType": "T4",
      "include_colab_link": true
    },
    "kernelspec": {
      "display_name": "Python 3",
      "name": "python3"
    },
    "language_info": {
      "name": "python"
    },
    "accelerator": "GPU"
  },
  "nbformat": 4,
  "nbformat_minor": 0
}